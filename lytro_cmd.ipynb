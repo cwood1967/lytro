{
 "cells": [
  {
   "cell_type": "code",
   "execution_count": 60,
   "metadata": {
    "collapsed": false
   },
   "outputs": [
    {
     "name": "stdout",
     "output_type": "stream",
     "text": [
      "lfptool raw -i IMG_0487.LFR --image-out --imagerep png  -P 6 --focus -6.0\n",
      "lfptool raw -i IMG_0487.LFR --image-out --imagerep png  -P 6 --focus -5.5\n",
      "lfptool raw -i IMG_0487.LFR --image-out --imagerep png  -P 6 --focus -5.0\n",
      "lfptool raw -i IMG_0487.LFR --image-out --imagerep png  -P 6 --focus -4.5\n",
      "lfptool raw -i IMG_0487.LFR --image-out --imagerep png  -P 6 --focus -4.0\n",
      "lfptool raw -i IMG_0487.LFR --image-out --imagerep png  -P 6 --focus -3.5\n",
      "lfptool raw -i IMG_0487.LFR --image-out --imagerep png  -P 6 --focus -3.0\n",
      "lfptool raw -i IMG_0487.LFR --image-out --imagerep png  -P 6 --focus -2.5\n",
      "lfptool raw -i IMG_0487.LFR --image-out --imagerep png  -P 6 --focus -2.0\n",
      "lfptool raw -i IMG_0487.LFR --image-out --imagerep png  -P 6 --focus -1.5\n",
      "lfptool raw -i IMG_0487.LFR --image-out --imagerep png  -P 6 --focus -1.0\n",
      "lfptool raw -i IMG_0487.LFR --image-out --imagerep png  -P 6 --focus -0.5\n",
      "lfptool raw -i IMG_0487.LFR --image-out --imagerep png  -P 6 --focus 0.0\n",
      "lfptool raw -i IMG_0487.LFR --image-out --imagerep png  -P 6 --focus 0.5\n",
      "lfptool raw -i IMG_0487.LFR --image-out --imagerep png  -P 6 --focus 1.0\n",
      "lfptool raw -i IMG_0487.LFR --image-out --imagerep png  -P 6 --focus 1.5\n"
     ]
    }
   ],
   "source": [
    "import subprocess\n",
    "import math\n",
    "\n",
    "cmd = 'lfptool raw -i IMG_0487.LFR --image-out --imagerep png  -P 6 --focus '\n",
    "\n",
    "istart = -6.\n",
    "istop = 2.\n",
    "d = .5\n",
    "\n",
    "f = istart\n",
    "\n",
    "cmdlist = list()\n",
    "while f < istop:\n",
    "    if abs(f) < .001:\n",
    "        f = 0.0\n",
    "    fstr = str(f)\n",
    "    a = cmd + fstr\n",
    "    cmdlist.append(a)\n",
    "    f += d\n",
    "\n",
    "for c in cmdlist:    \n",
    "    print c"
   ]
  },
  {
   "cell_type": "code",
   "execution_count": 38,
   "metadata": {
    "collapsed": false
   },
   "outputs": [
    {
     "name": "stdout",
     "output_type": "stream",
     "text": [
      "Done\n",
      "[1489414738][INFO][LPT]:  checking for valid LFP content : \r\n",
      "                                    input : IMG_0487.LFR\r\n",
      "[1489414738][INFO][LPT]:   analyzing LFPs : |\b\r",
      "[1489414738][INFO][LPT]:   analyzing LFPs : /\b\r",
      "[1489414738][INFO][LPT]:   analyzing LFPs : -\b\r",
      "[1489414738][INFO][LPT]:   analyzing LFPs : \\\b\r",
      "[1489414738][INFO][LPT]:   analyzing LFPs : ...done!\r\n",
      "[1489414739][INFO][LPT]:  (0001) processing image from raw LFP file : \r\n",
      "                                    input : IMG_0487.LFR\r\n",
      "                                   output : IMG_0487_f-1.8000.png\r\n",
      "\n"
     ]
    }
   ],
   "source": [
    "import shlex\n",
    "import sys\n",
    "com = cmdlist[2]\n",
    "args = shlex.split(com)\n",
    "# fo = io.StringIO\n",
    "x = subprocess.Popen(args, stdout=subprocess.PIPE)\n",
    "out =  x.stdout.read()\n",
    "print \"Done\"\n",
    "print out"
   ]
  },
  {
   "cell_type": "code",
   "execution_count": 61,
   "metadata": {
    "collapsed": false
   },
   "outputs": [
    {
     "name": "stdout",
     "output_type": "stream",
     "text": [
      "1 IMG_0487_f-6.0000.png IMG_0487-000.png\n",
      "2 IMG_0487_f-5.5000.png IMG_0487-001.png\n",
      "3 IMG_0487_f-5.0000.png IMG_0487-002.png\n",
      "4 IMG_0487_f-4.5000.png IMG_0487-003.png\n",
      "5 IMG_0487_f-4.0000.png IMG_0487-004.png\n",
      "6 IMG_0487_f-3.5000.png IMG_0487-005.png\n",
      "7 IMG_0487_f-3.0000.png IMG_0487-006.png\n",
      "8 IMG_0487_f-2.5000.png IMG_0487-007.png\n",
      "9 IMG_0487_f-2.0000_0001.png IMG_0487-008.png\n",
      "10 IMG_0487_f-1.5000.png IMG_0487-009.png\n",
      "11 IMG_0487_f-1.0000.png IMG_0487-010.png\n",
      "12 IMG_0487_f-0.5000.png IMG_0487-011.png\n",
      "13 IMG_0487_0000.png IMG_0487-012.png\n",
      "14 IMG_0487_f_0.5000.png IMG_0487-013.png\n",
      "15 IMG_0487_f_1.0000.png IMG_0487-014.png\n",
      "16 IMG_0487_f_1.5000.png IMG_0487-015.png\n"
     ]
    }
   ],
   "source": [
    "import os\n",
    "import shutil\n",
    "import shlex\n",
    "import sys\n",
    "\n",
    "def getfilenames(output):\n",
    "    s = output.split('\\r\\n')\n",
    "    inputfile = s[-3].split(\":\")[-1].strip()\n",
    "    outputfile =s[-2].split(\":\")[-1].strip()\n",
    "    return inputfile, outputfile\n",
    "    \n",
    "\n",
    "def getnewfilename(index, filename):\n",
    "    start = filename[0:8]\n",
    "    ext = filename.split(\".\")[-1].strip()\n",
    "    name = start + \"-\" + str(index).zfill(3)\n",
    "    return name + \".\" + ext\n",
    "\n",
    "def lfptoolcommand(cmdlist):\n",
    "    index = 0 \n",
    "    for com in cmdlist:\n",
    "        args = shlex.split(com)\n",
    "        x = subprocess.Popen(args, stdout=subprocess.PIPE)\n",
    "        out =  x.stdout.read()\n",
    "        inputfile, outputfile = getfilenames(out)\n",
    "        newfilename = getnewfilename(index, outputfile)\n",
    "        shutil.move(outputfile, newfilename)\n",
    "        index += 1\n",
    "        \n",
    "        print index, outputfile, newfilename\n",
    "        \n",
    "#shutil.move(outputfile, )\n",
    "lfptoolcommand(cmdlist)"
   ]
  },
  {
   "cell_type": "code",
   "execution_count": 55,
   "metadata": {
    "collapsed": false
   },
   "outputs": [
    {
     "data": {
      "text/plain": [
       "['lfptool raw -i IMG_0487.LFR --image-out --imagerep png  -P 6 --focus -2.0',\n",
       " 'lfptool raw -i IMG_0487.LFR --image-out --imagerep png  -P 6 --focus -1.9',\n",
       " 'lfptool raw -i IMG_0487.LFR --image-out --imagerep png  -P 6 --focus -1.8',\n",
       " 'lfptool raw -i IMG_0487.LFR --image-out --imagerep png  -P 6 --focus -1.7',\n",
       " 'lfptool raw -i IMG_0487.LFR --image-out --imagerep png  -P 6 --focus -1.6',\n",
       " 'lfptool raw -i IMG_0487.LFR --image-out --imagerep png  -P 6 --focus -1.5',\n",
       " 'lfptool raw -i IMG_0487.LFR --image-out --imagerep png  -P 6 --focus -1.4',\n",
       " 'lfptool raw -i IMG_0487.LFR --image-out --imagerep png  -P 6 --focus -1.3',\n",
       " 'lfptool raw -i IMG_0487.LFR --image-out --imagerep png  -P 6 --focus -1.2',\n",
       " 'lfptool raw -i IMG_0487.LFR --image-out --imagerep png  -P 6 --focus -1.1',\n",
       " 'lfptool raw -i IMG_0487.LFR --image-out --imagerep png  -P 6 --focus -1.0',\n",
       " 'lfptool raw -i IMG_0487.LFR --image-out --imagerep png  -P 6 --focus -0.9',\n",
       " 'lfptool raw -i IMG_0487.LFR --image-out --imagerep png  -P 6 --focus -0.8',\n",
       " 'lfptool raw -i IMG_0487.LFR --image-out --imagerep png  -P 6 --focus -0.7',\n",
       " 'lfptool raw -i IMG_0487.LFR --image-out --imagerep png  -P 6 --focus -0.6',\n",
       " 'lfptool raw -i IMG_0487.LFR --image-out --imagerep png  -P 6 --focus -0.5',\n",
       " 'lfptool raw -i IMG_0487.LFR --image-out --imagerep png  -P 6 --focus -0.4',\n",
       " 'lfptool raw -i IMG_0487.LFR --image-out --imagerep png  -P 6 --focus -0.3',\n",
       " 'lfptool raw -i IMG_0487.LFR --image-out --imagerep png  -P 6 --focus -0.2',\n",
       " 'lfptool raw -i IMG_0487.LFR --image-out --imagerep png  -P 6 --focus -0.1',\n",
       " 'lfptool raw -i IMG_0487.LFR --image-out --imagerep png  -P 6 --focus 0.0',\n",
       " 'lfptool raw -i IMG_0487.LFR --image-out --imagerep png  -P 6 --focus 0.1',\n",
       " 'lfptool raw -i IMG_0487.LFR --image-out --imagerep png  -P 6 --focus 0.2',\n",
       " 'lfptool raw -i IMG_0487.LFR --image-out --imagerep png  -P 6 --focus 0.3',\n",
       " 'lfptool raw -i IMG_0487.LFR --image-out --imagerep png  -P 6 --focus 0.4',\n",
       " 'lfptool raw -i IMG_0487.LFR --image-out --imagerep png  -P 6 --focus 0.5',\n",
       " 'lfptool raw -i IMG_0487.LFR --image-out --imagerep png  -P 6 --focus 0.6',\n",
       " 'lfptool raw -i IMG_0487.LFR --image-out --imagerep png  -P 6 --focus 0.7',\n",
       " 'lfptool raw -i IMG_0487.LFR --image-out --imagerep png  -P 6 --focus 0.8',\n",
       " 'lfptool raw -i IMG_0487.LFR --image-out --imagerep png  -P 6 --focus 0.9',\n",
       " 'lfptool raw -i IMG_0487.LFR --image-out --imagerep png  -P 6 --focus 1.0',\n",
       " 'lfptool raw -i IMG_0487.LFR --image-out --imagerep png  -P 6 --focus 1.1',\n",
       " 'lfptool raw -i IMG_0487.LFR --image-out --imagerep png  -P 6 --focus 1.2',\n",
       " 'lfptool raw -i IMG_0487.LFR --image-out --imagerep png  -P 6 --focus 1.3',\n",
       " 'lfptool raw -i IMG_0487.LFR --image-out --imagerep png  -P 6 --focus 1.4',\n",
       " 'lfptool raw -i IMG_0487.LFR --image-out --imagerep png  -P 6 --focus 1.5',\n",
       " 'lfptool raw -i IMG_0487.LFR --image-out --imagerep png  -P 6 --focus 1.6',\n",
       " 'lfptool raw -i IMG_0487.LFR --image-out --imagerep png  -P 6 --focus 1.7',\n",
       " 'lfptool raw -i IMG_0487.LFR --image-out --imagerep png  -P 6 --focus 1.8',\n",
       " 'lfptool raw -i IMG_0487.LFR --image-out --imagerep png  -P 6 --focus 1.9']"
      ]
     },
     "execution_count": 55,
     "metadata": {},
     "output_type": "execute_result"
    }
   ],
   "source": [
    ""
   ]
  },
  {
   "cell_type": "code",
   "execution_count": null,
   "metadata": {
    "collapsed": true
   },
   "outputs": [],
   "source": [
    ""
   ]
  }
 ],
 "metadata": {
  "kernelspec": {
   "display_name": "Python 2",
   "language": "python",
   "name": "python2"
  },
  "language_info": {
   "codemirror_mode": {
    "name": "ipython",
    "version": 2.0
   },
   "file_extension": ".py",
   "mimetype": "text/x-python",
   "name": "python",
   "nbconvert_exporter": "python",
   "pygments_lexer": "ipython2",
   "version": "2.7.13"
  }
 },
 "nbformat": 4,
 "nbformat_minor": 0
}